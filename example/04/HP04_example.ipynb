{
 "cells": [
  {
   "cell_type": "markdown",
   "metadata": {},
   "source": [
    "# Week 04: 流程控制(上) - 程式的決策之道！\n",
    "# Python 程式範例集\n",
    "\n",
    "本筆記本包含第四週課程中所有的 Python 程式範例，涵蓋條件判斷、比較運算、邏輯運算等重要概念。\n",
    "\n",
    "## 📚 內容目錄\n",
    "1. [基本條件判斷](#基本條件判斷)\n",
    "2. [比較運算符號](#比較運算符號)\n",
    "3. [邏輯運算符號](#邏輯運算符號)\n",
    "4. [多重條件判斷](#多重條件判斷)\n",
    "5. [互動式選單](#互動式選單)\n",
    "6. [Random模組應用](#Random模組應用)\n",
    "7. [綜合實戰範例](#綜合實戰範例)"
   ]
  },
  {
   "cell_type": "markdown",
   "metadata": {},
   "source": [
    "## 基本條件判斷\n",
    "\n",
    "### 🌡️ 溫度判斷範例"
   ]
  },
  {
   "cell_type": "code",
   "execution_count": null,
   "metadata": {},
   "outputs": [],
   "source": [
    "# 基本 if-else 條件判斷\n",
    "temperature = int(input(\"今天溫度是幾度？\"))\n",
    "\n",
    "if temperature >= 25:\n",
    "    print(\"今天很熱，記得多喝水！🌞\")\n",
    "else:\n",
    "    print(\"今天涼爽，適合出門走走！🚶‍♂️\")"
   ]
  },
  {
   "cell_type": "markdown",
   "metadata": {},
   "source": [
    "## 比較運算符號\n",
    "\n",
    "### 🎯 實戰練習"
   ]
  },
  {
   "cell_type": "code",
   "execution_count": null,
   "metadata": {},
   "outputs": [],
   "source": [
    "score = 85\n",
    "\n",
    "# 基本比較運算\n",
    "print(score >= 80)    # True\n",
    "print(score == 100)   # False\n",
    "\n",
    "# 結合if條件判斷\n",
    "if score >= 80:\n",
    "    print(\"恭喜！成績優良！🎉\")\n",
    "\n",
    "if score != 100:\n",
    "    print(\"還有進步空間喔！💪\")\n",
    "\n",
    "# 更多比較範例\n",
    "age = 18\n",
    "if age >= 18:\n",
    "    print(\"已成年，可以投票！🗳️\")\n",
    "\n",
    "temperature = 30\n",
    "if temperature > 25:\n",
    "    print(\"今天很熱！🌞\")"
   ]
  },
  {
   "cell_type": "markdown",
   "metadata": {},
   "source": [
    "## 邏輯運算符號\n",
    "\n",
    "### 🎓 成績分級範例"
   ]
  },
  {
   "cell_type": "code",
   "execution_count": null,
   "metadata": {},
   "outputs": [],
   "source": [
    "score = int(input(\"請輸入成績：\"))\n",
    "\n",
    "if score >= 90 and score <= 100:\n",
    "    print(\"A級：優秀！🏆\")\n",
    "elif score >= 80 and score < 90:\n",
    "    print(\"B級：良好！👍\")\n",
    "elif score >= 70 and score < 80:\n",
    "    print(\"C級：及格！✅\")\n",
    "else:\n",
    "    print(\"需要加油！💪\")"
   ]
  },
  {
   "cell_type": "markdown",
   "metadata": {},
   "source": [
    "## 多重條件判斷\n",
    "\n",
    "### 🚦 交通燈號系統"
   ]
  },
  {
   "cell_type": "code",
   "execution_count": null,
   "metadata": {},
   "outputs": [],
   "source": [
    "light = input(\"交通號誌是什麼顏色？(紅/黃/綠)\")\n",
    "\n",
    "if light == \"紅\":\n",
    "    print(\"🔴 停止！等待綠燈\")\n",
    "elif light == \"黃\":\n",
    "    print(\"🟡 準備停車，注意安全\")\n",
    "elif light == \"綠\":\n",
    "    print(\"🟢 可以通行\")\n",
    "else:\n",
    "    print(\"❓ 無效的號誌顏色\")"
   ]
  },
  {
   "cell_type": "markdown",
   "metadata": {},
   "source": [
    "## 互動式選單\n",
    "\n",
    "### 🍕 Pizza店選單系統"
   ]
  },
  {
   "cell_type": "code",
   "execution_count": null,
   "metadata": {},
   "outputs": [],
   "source": [
    "print(\"=== 🍕 歡迎來到Pizza店 ===\")\n",
    "print(\"1. 瑪格麗特披薩 - $280\")\n",
    "print(\"2. 夏威夷披薩 - $320\") \n",
    "print(\"3. 海鮮披薩 - $380\")\n",
    "print(\"4. 離開\")\n",
    "\n",
    "choice = input(\"請選擇您要的披薩(1-4)：\")\n",
    "\n",
    "if choice == \"1\":\n",
    "    print(\"您選擇了瑪格麗特披薩！🍕\")\n",
    "elif choice == \"2\":\n",
    "    print(\"您選擇了夏威夷披薩！🍍\")\n",
    "elif choice == \"3\":\n",
    "    print(\"您選擇了海鮮披薩！🦐\")\n",
    "elif choice == \"4\":\n",
    "    print(\"謝謝光臨！👋\")\n",
    "else:\n",
    "    print(\"無效選擇，請重新選擇！\")"
   ]
  },
  {
   "cell_type": "markdown",
   "metadata": {},
   "source": [
    "### 📚 學生成績管理系統"
   ]
  },
  {
   "cell_type": "code",
   "execution_count": null,
   "metadata": {},
   "outputs": [],
   "source": [
    "print(\"=== 📚 學生成績管理系統 ===\")\n",
    "\n",
    "# 輸入成績\n",
    "chinese = int(input(\"請輸入國文成績：\"))\n",
    "english = int(input(\"請輸入英文成績：\"))\n",
    "math = int(input(\"請輸入數學成績：\"))\n",
    "\n",
    "# 計算總分和平均\n",
    "total = chinese + english + math\n",
    "average = total / 3\n",
    "\n",
    "print(f\"總分：{total}\")\n",
    "print(f\"平均：{average:.1f}\")\n",
    "\n",
    "# 成績等級判斷\n",
    "if average >= 90:\n",
    "    print(\"🏆 A級：優秀！\")\n",
    "    print(\"建議：保持優異表現！\")\n",
    "elif average >= 80:\n",
    "    print(\"👍 B級：良好！\")\n",
    "    print(\"建議：再加把勁衝A級！\")\n",
    "elif average >= 70:\n",
    "    print(\"✅ C級：及格！\")\n",
    "    print(\"建議：加強複習弱科！\")\n",
    "elif average >= 60:\n",
    "    print(\"⚠️ D級：待加強！\")\n",
    "    print(\"建議：需要密集複習！\")\n",
    "else:\n",
    "    print(\"💪 E級：需努力！\")\n",
    "    print(\"建議：尋求老師協助！\")"
   ]
  },
  {
   "cell_type": "markdown",
   "metadata": {},
   "source": [
    "## Random模組應用\n",
    "\n",
    "### 基本Random函式使用"
   ]
  },
  {
   "cell_type": "code",
   "execution_count": null,
   "metadata": {},
   "outputs": [],
   "source": [
    "import random\n",
    "\n",
    "# 1. random.randint(a, b) - 產生整數範圍隨機數\n",
    "dice = random.randint(1, 6)    # 骰子\n",
    "lottery = random.randint(1, 49) # 樂透號碼\n",
    "print(f\"骰子點數：{dice}\")\n",
    "print(f\"樂透號碼：{lottery}\")\n",
    "\n",
    "# 2. random.choice(sequence) - 從序列中隨機選擇\n",
    "colors = [\"紅色\", \"藍色\", \"綠色\", \"黃色\"]\n",
    "chosen_color = random.choice(colors)\n",
    "print(f\"隨機顏色：{chosen_color}\")\n",
    "\n",
    "activities = [\"看電影\", \"運動\", \"讀書\", \"購物\"]\n",
    "today_plan = random.choice(activities)\n",
    "print(f\"今日計畫：{today_plan}\")\n",
    "\n",
    "# 3. random.random() - 產生0-1之間的小數\n",
    "probability = random.random()\n",
    "print(f\"機率值：{probability}\")\n",
    "\n",
    "# 模擬擲硬幣\n",
    "if random.random() > 0.5:\n",
    "    print(\"正面！\")\n",
    "else:\n",
    "    print(\"反面！\")\n",
    "\n",
    "# 4. random.shuffle(list) - 打亂清單順序\n",
    "cards = [\"A\", \"K\", \"Q\", \"J\", \"10\"]\n",
    "print(f\"原始順序：{cards}\")\n",
    "random.shuffle(cards)\n",
    "print(f\"洗牌後：{cards}\")"
   ]
  },
  {
   "cell_type": "markdown",
   "metadata": {},
   "source": [
    "### 🎯 猜數字遊戲"
   ]
  },
  {
   "cell_type": "code",
   "execution_count": null,
   "metadata": {},
   "outputs": [],
   "source": [
    "import random\n",
    "\n",
    "secret = random.randint(1, 100)\n",
    "guess = int(input(\"猜一個1-100的數字：\"))\n",
    "\n",
    "if guess == secret:\n",
    "    print(\"🎉 恭喜！猜對了！\")\n",
    "elif guess > secret:\n",
    "    print(\"📉 太大了！\")\n",
    "else:\n",
    "    print(\"📈 太小了！\")"
   ]
  },
  {
   "cell_type": "markdown",
   "metadata": {},
   "source": [
    "### 🔮 運勢占卜器"
   ]
  },
  {
   "cell_type": "code",
   "execution_count": null,
   "metadata": {},
   "outputs": [],
   "source": [
    "import random\n",
    "\n",
    "print(\"🔮 今日運勢占卜器 🔮\")\n",
    "name = input(\"請輸入您的姓名：\")\n",
    "\n",
    "# 隨機運勢\n",
    "fortunes = [\n",
    "    \"大吉！今天是你的幸運日！🍀\",\n",
    "    \"中吉！保持積極心態！😊\", \n",
    "    \"小吉！會有小驚喜等著你！✨\",\n",
    "    \"平！平平淡淡也是福！😌\",\n",
    "    \"凶！小心謹慎，避免衝動！⚠️\"\n",
    "]\n",
    "\n",
    "# 隨機幸運數字\n",
    "lucky_number = random.randint(1, 99)\n",
    "\n",
    "# 隨機幸運顏色\n",
    "lucky_colors = [\"紅色\", \"藍色\", \"綠色\", \"黃色\", \"紫色\", \"粉色\"]\n",
    "lucky_color = random.choice(lucky_colors)\n",
    "\n",
    "print(f\"\\n{name}，您今日的運勢是：\")\n",
    "print(random.choice(fortunes))\n",
    "print(f\"幸運數字：{lucky_number}\")\n",
    "print(f\"幸運顏色：{lucky_color}\")"
   ]
  },
  {
   "cell_type": "markdown",
   "metadata": {},
   "source": [
    "### 🎮 猜數字進階版"
   ]
  },
  {
   "cell_type": "code",
   "execution_count": null,
   "metadata": {},
   "outputs": [],
   "source": [
    "import random\n",
    "\n",
    "print(\"🎯 猜數字遊戲 🎯\")\n",
    "secret_number = random.randint(1, 100)\n",
    "attempts = 0\n",
    "max_attempts = 7\n",
    "\n",
    "print(\"我想了一個1到100的數字，你能猜到嗎？\")\n",
    "print(f\"你有{max_attempts}次機會！\")\n",
    "\n",
    "while attempts < max_attempts:\n",
    "    guess = int(input(f\"第{attempts + 1}次猜測：\"))\n",
    "    attempts += 1\n",
    "    \n",
    "    if guess == secret_number:\n",
    "        print(f\"🎉 太棒了！你猜對了！答案就是{secret_number}\")\n",
    "        print(f\"你總共猜了{attempts}次！\")\n",
    "        break\n",
    "    elif guess > secret_number:\n",
    "        print(\"📉 太大了！再試試看！\")\n",
    "    else:\n",
    "        print(\"📈 太小了！再試試看！\")\n",
    "    \n",
    "    remaining = max_attempts - attempts\n",
    "    if remaining > 0:\n",
    "        print(f\"還有{remaining}次機會！\")\n",
    "    else:\n",
    "        print(f\"😭 遊戲結束！答案是{secret_number}\")"
   ]
  },
  {
   "cell_type": "markdown",
   "metadata": {},
   "source": [
    "## 綜合實戰範例\n",
    "\n",
    "### 🤖 智慧選擇器：今天吃什麼決策器"
   ]
  },
  {
   "cell_type": "code",
   "execution_count": null,
   "metadata": {},
   "outputs": [],
   "source": [
    "import random\n",
    "\n",
    "print(\"🍽️ === 智慧選擇器：今天吃什麼？ ===\")\n",
    "mood = input(\"你今天心情如何？(開心/難過/普通)：\")\n",
    "budget = int(input(\"預算多少錢？\"))\n",
    "\n",
    "if mood == \"開心\" and budget >= 500:\n",
    "    foods = [\"高級日料\", \"法式餐廳\", \"牛排館\"]\n",
    "elif mood == \"開心\" and budget < 500:\n",
    "    foods = [\"火鍋\", \"燒烤\", \"義大利麵\"]\n",
    "elif mood == \"難過\":\n",
    "    foods = [\"泡麵\", \"冰淇淋\", \"炸雞\"]\n",
    "else:\n",
    "    foods = [\"便當\", \"麵店\", \"自助餐\"]\n",
    "\n",
    "choice = random.choice(foods)\n",
    "print(f\"🎯 建議你今天吃：{choice}\")\n",
    "\n",
    "if budget >= 300:\n",
    "    print(\"💰 預算充足，好好享受吧！\")\n",
    "else:\n",
    "    print(\"💡 省錢也能吃得開心！\")"
   ]
  },
  {
   "cell_type": "markdown",
   "metadata": {},
   "source": [
    "### 💡 電影推薦系統（練習範例）"
   ]
  },
  {
   "cell_type": "code",
   "execution_count": null,
   "metadata": {},
   "outputs": [],
   "source": [
    "# 電影推薦系統範例架構\n",
    "# 學生可以基於這個架構完成完整系統\n",
    "\n",
    "import random\n",
    "\n",
    "print(\"🎬 === 智慧電影推薦系統 ===\")\n",
    "\n",
    "# 1. 輸入使用者喜好\n",
    "genre = input(\"你喜歡什麼類型的電影？(動作/愛情/喜劇/科幻)：\")\n",
    "time = int(input(\"你有多少時間看電影？(分鐘)：\"))\n",
    "mood = input(\"你今天心情如何？(開心/放鬆/緊張)：\")\n",
    "\n",
    "# 2. 根據類型和時間推薦\n",
    "if genre == \"動作\" and time >= 120:\n",
    "    movies = [\"復仇者聯盟\", \"變形金剛\", \"不可能的任務\"]\n",
    "elif genre == \"動作\" and time < 120:\n",
    "    movies = [\"玩命關頭\", \"限制級戰警\", \"追殺比爾\"]\n",
    "elif genre == \"愛情\" and time >= 120:\n",
    "    movies = [\"鐵達尼號\", \"真愛每一天\", \"手札情緣\"]\n",
    "elif genre == \"愛情\" and time < 120:\n",
    "    movies = [\"真愛至上\", \"戀夏500日\", \"愛是您愛是我\"]\n",
    "elif genre == \"喜劇\":\n",
    "    movies = [\"功夫\", \"國產凌凌漆\", \"金雞\"]\n",
    "elif genre == \"科幻\":\n",
    "    movies = [\"星際大戰\", \"駭客任務\", \"全面啟動\"]\n",
    "else:\n",
    "    movies = [\"阿甘正傳\", \"肖申克的救贖\", \"教父\"]\n",
    "\n",
    "# 3. 隨機推薦\n",
    "recommendation = random.choice(movies)\n",
    "print(f\"\\n🎯 推薦電影：{recommendation}\")\n",
    "\n",
    "# 4. 額外建議\n",
    "if mood == \"緊張\":\n",
    "    print(\"💡 建議選擇輕鬆的類型放鬆一下！\")\n",
    "elif time < 90:\n",
    "    print(\"⏰ 時間不多，建議選擇短片或紀錄片！\")\n",
    "else:\n",
    "    print(\"🍿 準備好爆米花，享受電影時光吧！\")"
   ]
  },
  {
   "cell_type": "markdown",
   "metadata": {},
   "source": [
    "---\n",
    "\n",
    "## 📝 練習作業參考\n",
    "\n",
    "以上範例涵蓋了第四週課程的所有重要概念：\n",
    "\n",
    "### ✅ 學習檢核清單\n",
    "- [x] **基本條件判斷** - if/else 語法\n",
    "- [x] **比較運算符號** - ==, !=, >, <, >=, <=\n",
    "- [x] **邏輯運算符號** - and, or, not\n",
    "- [x] **多重條件判斷** - elif 結構\n",
    "- [x] **互動式選單** - 使用者輸入處理\n",
    "- [x] **Random模組** - 隨機數生成與選擇\n",
    "- [x] **綜合應用** - 實際問題解決\n",
    "\n",
    "### 🚀 進階挑戰\n",
    "1. 修改現有範例，加入更多功能\n",
    "2. 結合多個概念創造新的應用\n",
    "3. 加入錯誤處理機制\n",
    "4. 美化使用者介面輸出\n",
    "\n",
    "### 💪 作業提示\n",
    "- **基礎練習**：從學生成績管理系統開始\n",
    "- **進階應用**：整合智慧選擇決策系統\n",
    "- **創意發揮**：設計個人化智慧助手\n",
    "\n",
    "記得在實作時加入充分的註解，讓程式碼更容易理解！"
   ]
  }
 ],
 "metadata": {
  "kernelspec": {
   "display_name": "Python 3",
   "language": "python",
   "name": "python3"
  },
  "language_info": {
   "codemirror_mode": {
    "name": "ipython",
    "version": 3
   },
   "file_extension": ".py",
   "mimetype": "text/x-python",
   "name": "python",
   "nbconvert_exporter": "python",
   "pygments_lexer": "ipython3",
   "version": "3.13.2"
  }
 },
 "nbformat": 4,
 "nbformat_minor": 4
}
