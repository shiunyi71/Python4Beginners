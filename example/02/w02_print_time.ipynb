{
 "cells": [
  {
   "cell_type": "markdown",
   "id": "7bd09710",
   "metadata": {},
   "source": [
    "# 經典的開始"
   ]
  },
  {
   "cell_type": "code",
   "execution_count": 27,
   "id": "19adf91e",
   "metadata": {},
   "outputs": [
    {
     "name": "stdout",
     "output_type": "stream",
     "text": [
      "Hello, World!\n",
      "歡迎來到Python的世界！\n"
     ]
    }
   ],
   "source": [
    "print(\"Hello, World!\")\n",
    "print(\"歡迎來到Python的世界！\")"
   ]
  },
  {
   "cell_type": "markdown",
   "id": "079d1c62",
   "metadata": {},
   "source": [
    "### print() 函數"
   ]
  },
  {
   "cell_type": "code",
   "execution_count": 28,
   "id": "e5e8ebf3",
   "metadata": {},
   "outputs": [
    {
     "name": "stdout",
     "output_type": "stream",
     "text": [
      "這是文字\n",
      "123\n",
      "我今年 20 歲\n"
     ]
    }
   ],
   "source": [
    "print(\"這是文字\")\n",
    "print(123)                # 數字\n",
    "print(\"我今年\", 20, \"歲\")  # 混合輸出"
   ]
  },
  {
   "cell_type": "code",
   "execution_count": 29,
   "id": "42224b30",
   "metadata": {},
   "outputs": [
    {
     "name": "stdout",
     "output_type": "stream",
     "text": [
      "哈囉 小明 ！你今年 18 歲\n"
     ]
    }
   ],
   "source": [
    "name = input(\"請輸入你的名字：\")\n",
    "age = input(\"請輸入你的年齡：\")\n",
    "print(\"哈囉\", name, \"！你今年\", age, \"歲\")"
   ]
  },
  {
   "cell_type": "markdown",
   "id": "e7bc80da",
   "metadata": {},
   "source": [
    "### 實際互動範例"
   ]
  },
  {
   "cell_type": "code",
   "execution_count": 30,
   "id": "7b3b68d3",
   "metadata": {},
   "outputs": [
    {
     "name": "stdout",
     "output_type": "stream",
     "text": [
      "=== 自我介紹小程式 ===\n",
      "\n",
      "很高興認識你！\n",
      "姓名：小華\n",
      "興趣：打電動\n",
      "歡迎加入Python學習行列！🎉\n",
      "\n",
      "很高興認識你！\n",
      "姓名：小華\n",
      "興趣：打電動\n",
      "歡迎加入Python學習行列！🎉\n"
     ]
    }
   ],
   "source": [
    "# 簡單的自我介紹程式\n",
    "print(\"=== 自我介紹小程式 ===\")\n",
    "name = input(\"你的名字是？\")\n",
    "hobby = input(\"你的興趣是？\")\n",
    "\n",
    "print(\"\\n很高興認識你！\")\n",
    "print(f\"姓名：{name}\")\n",
    "print(f\"興趣：{hobby}\")\n",
    "print(\"歡迎加入Python學習行列！🎉\")"
   ]
  },
  {
   "cell_type": "markdown",
   "id": "160a9c49",
   "metadata": {},
   "source": [
    "## 用print畫出炫酷圖案\n",
    "\n",
    "### ASCII藝術基礎"
   ]
  },
  {
   "cell_type": "code",
   "execution_count": 28,
   "id": "7019ab65",
   "metadata": {},
   "outputs": [
    {
     "name": "stdout",
     "output_type": "stream",
     "text": [
      "  *  \n",
      " *** \n",
      "*****\n",
      " *** \n",
      "  *  \n"
     ]
    }
   ],
   "source": [
    "print(\"  *  \")\n",
    "print(\" *** \")\n",
    "print(\"*****\")\n",
    "print(\" *** \")\n",
    "print(\"  *  \")"
   ]
  },
  {
   "cell_type": "markdown",
   "id": "dc35e3e1",
   "metadata": {},
   "source": [
    "### 繪製愛心 💝\n"
   ]
  },
  {
   "cell_type": "code",
   "execution_count": 22,
   "id": "58cbd9da",
   "metadata": {},
   "outputs": [
    {
     "name": "stdout",
     "output_type": "stream",
     "text": [
      "  ❤️   ❤️  \n",
      " ❤️ ❤️ ❤️ ❤️ \n",
      "❤️  ❤️ ❤️  ❤️\n",
      " ❤️  ❤️  ❤️ \n",
      "  ❤️   ❤️  \n",
      "   ❤️ ❤️   \n",
      "    ❤️    \n"
     ]
    }
   ],
   "source": [
    "print(\"  ❤️   ❤️  \")\n",
    "print(\" ❤️ ❤️ ❤️ ❤️ \")\n",
    "print(\"❤️  ❤️ ❤️  ❤️\")\n",
    "print(\" ❤️  ❤️  ❤️ \")\n",
    "print(\"  ❤️   ❤️  \")\n",
    "print(\"   ❤️ ❤️   \")\n",
    "print(\"    ❤️    \")"
   ]
  },
  {
   "cell_type": "code",
   "execution_count": 23,
   "id": "957e54b6",
   "metadata": {},
   "outputs": [
    {
     "name": "stdout",
     "output_type": "stream",
     "text": [
      "  ❤️  ❤️  \n",
      " ❤️❤️❤️ \n",
      "❤️❤️❤️❤️\n",
      " ❤️❤️❤️ \n",
      "  ❤️❤️  \n",
      "   ❤️   \n"
     ]
    }
   ],
   "source": [
    "print(\"  ❤️  ❤️  \")\n",
    "print(\" ❤️❤️❤️ \")\n",
    "print(\"❤️❤️❤️❤️\")\n",
    "print(\" ❤️❤️❤️ \")\n",
    "print(\"  ❤️❤️  \")\n",
    "print(\"   ❤️   \")\n"
   ]
  },
  {
   "cell_type": "markdown",
   "id": "6d691ac9",
   "metadata": {},
   "source": [
    "### 繪製聖誕樹 🎄"
   ]
  },
  {
   "cell_type": "code",
   "execution_count": 24,
   "id": "2a978325",
   "metadata": {},
   "outputs": [
    {
     "name": "stdout",
     "output_type": "stream",
     "text": [
      "      *      \n",
      "     ***     \n",
      "    *****    \n",
      "   *******   \n",
      "  *********  \n",
      " *********** \n",
      "*************\n",
      "     |||     \n",
      "     |||     \n",
      "=== 聖誕快樂 ===\n"
     ]
    }
   ],
   "source": [
    "\n",
    "print(\"      *      \")\n",
    "print(\"     ***     \")\n",
    "print(\"    *****    \")\n",
    "print(\"   *******   \")\n",
    "print(\"  *********  \")\n",
    "print(\" *********** \")\n",
    "print(\"*************\")\n",
    "print(\"     |||     \")\n",
    "print(\"     |||     \")\n",
    "print(\"=== 聖誕快樂 ===\")"
   ]
  },
  {
   "cell_type": "markdown",
   "id": "fa4a5a95",
   "metadata": {},
   "source": [
    "### 用Python程式碼繪製一隻ASCII小貓\n",
    "#### 基本小貓圖案 🐱"
   ]
  },
  {
   "cell_type": "code",
   "execution_count": 25,
   "id": "c806be13",
   "metadata": {},
   "outputs": [
    {
     "name": "stdout",
     "output_type": "stream",
     "text": [
      "     /\\_/\\  \n",
      "    ( o.o ) \n",
      "     > ^ <  \n",
      "    _______\n",
      "   |       |\n",
      "   | MEOW! |\n",
      "   |_______|\n"
     ]
    }
   ],
   "source": [
    "\n",
    "print(\"     /\\\\_/\\\\  \")\n",
    "print(\"    ( o.o ) \")\n",
    "print(\"     > ^ <  \")\n",
    "print(\"    _______\")\n",
    "print(\"   |       |\")\n",
    "print(\"   | MEOW! |\")\n",
    "print(\"   |_______|\")"
   ]
  },
  {
   "cell_type": "markdown",
   "id": "be66360a",
   "metadata": {},
   "source": [
    "## Time套件基本應用\n",
    "\n",
    "### 匯入時間模組"
   ]
  },
  {
   "cell_type": "code",
   "execution_count": 31,
   "id": "9ddefad9",
   "metadata": {},
   "outputs": [
    {
     "name": "stdout",
     "output_type": "stream",
     "text": [
      "目前時間戳： 1757242728.0060678\n",
      "現在時間： 2025-09-07 18:58:48\n"
     ]
    }
   ],
   "source": [
    "import time\n",
    "\n",
    "# 獲取當前時間\n",
    "current_time = time.time()\n",
    "print(\"目前時間戳：\", current_time)\n",
    "\n",
    "# 格式化時間顯示\n",
    "formatted_time = time.strftime(\"%Y-%m-%d %H:%M:%S\")\n",
    "print(\"現在時間：\", formatted_time)"
   ]
  },
  {
   "cell_type": "markdown",
   "id": "d271d3b4",
   "metadata": {},
   "source": [
    "### 時間延遲"
   ]
  },
  {
   "cell_type": "code",
   "execution_count": 33,
   "id": "42f022e8",
   "metadata": {},
   "outputs": [
    {
     "name": "stdout",
     "output_type": "stream",
     "text": [
      "開始倒數...\n",
      "5...\n",
      "4...\n",
      "4...\n",
      "3...\n",
      "3...\n",
      "2...\n",
      "2...\n",
      "1...\n",
      "1...\n",
      "時間到！🎉\n",
      "時間到！🎉\n"
     ]
    }
   ],
   "source": [
    "import time\n",
    "\n",
    "print(\"開始倒數...\")\n",
    "for i in range(5, 0, -1):\n",
    "    print(f\"{i}...\")\n",
    "    time.sleep(1)  # 暫停1秒\n",
    "print(\"時間到！🎉\")"
   ]
  },
  {
   "cell_type": "markdown",
   "id": "6474ce3a",
   "metadata": {},
   "source": [
    "## 用 print + time 做出會動的動畫\n",
    "\n",
    "### 跳動的心 💓"
   ]
  },
  {
   "cell_type": "code",
   "execution_count": 34,
   "id": "c39b26d5",
   "metadata": {},
   "outputs": [
    {
     "name": "stdout",
     "output_type": "stream",
     "text": [
      "\n",
      "\n",
      "      💜 Python 💜\n",
      "    學習程式好有趣！\n",
      "\n",
      "\n",
      "      💙 Python 💙\n",
      "    學習程式好有趣！\n",
      "\n",
      "\n",
      "      💙 Python 💙\n",
      "    學習程式好有趣！\n",
      "\n",
      "\n",
      "      💚 Python 💚\n",
      "    學習程式好有趣！\n",
      "\n",
      "\n",
      "      💚 Python 💚\n",
      "    學習程式好有趣！\n",
      "\n",
      "\n",
      "      💛 Python 💛\n",
      "    學習程式好有趣！\n",
      "\n",
      "\n",
      "      💛 Python 💛\n",
      "    學習程式好有趣！\n",
      "\n",
      "\n",
      "      ❤️ Python ❤️\n",
      "    學習程式好有趣！\n",
      "\n",
      "\n",
      "      ❤️ Python ❤️\n",
      "    學習程式好有趣！\n",
      "\n",
      "\n",
      "      💜 Python 💜\n",
      "    學習程式好有趣！\n",
      "\n",
      "\n",
      "      💜 Python 💜\n",
      "    學習程式好有趣！\n",
      "\n",
      "\n",
      "      💙 Python 💙\n",
      "    學習程式好有趣！\n",
      "\n",
      "\n",
      "      💙 Python 💙\n",
      "    學習程式好有趣！\n",
      "\n",
      "\n",
      "      💚 Python 💚\n",
      "    學習程式好有趣！\n",
      "\n",
      "\n",
      "      💚 Python 💚\n",
      "    學習程式好有趣！\n",
      "\n",
      "\n",
      "      💛 Python 💛\n",
      "    學習程式好有趣！\n",
      "\n",
      "\n",
      "      💛 Python 💛\n",
      "    學習程式好有趣！\n",
      "\n",
      "\n",
      "      ❤️ Python ❤️\n",
      "    學習程式好有趣！\n",
      "\n",
      "\n",
      "      ❤️ Python ❤️\n",
      "    學習程式好有趣！\n",
      "\n",
      "\n",
      "      💜 Python 💜\n",
      "    學習程式好有趣！\n",
      "\n",
      "\n",
      "      💜 Python 💜\n",
      "    學習程式好有趣！\n",
      "\n",
      "\n",
      "      💙 Python 💙\n",
      "    學習程式好有趣！\n",
      "\n",
      "\n",
      "      💙 Python 💙\n",
      "    學習程式好有趣！\n",
      "\n",
      "\n",
      "      💚 Python 💚\n",
      "    學習程式好有趣！\n",
      "\n",
      "\n",
      "      💚 Python 💚\n",
      "    學習程式好有趣！\n",
      "\n",
      "\n",
      "      💛 Python 💛\n",
      "    學習程式好有趣！\n",
      "\n",
      "\n",
      "      💛 Python 💛\n",
      "    學習程式好有趣！\n",
      "\n",
      "\n",
      "      ❤️ Python ❤️\n",
      "    學習程式好有趣！\n",
      "\n",
      "\n",
      "      ❤️ Python ❤️\n",
      "    學習程式好有趣！\n",
      "\n",
      "\n",
      "      💜 Python 💜\n",
      "    學習程式好有趣！\n",
      "\n",
      "\n",
      "      💜 Python 💜\n",
      "    學習程式好有趣！\n",
      "\n",
      "\n",
      "      💙 Python 💙\n",
      "    學習程式好有趣！\n",
      "\n",
      "\n",
      "      💙 Python 💙\n",
      "    學習程式好有趣！\n",
      "\n",
      "\n",
      "      💚 Python 💚\n",
      "    學習程式好有趣！\n",
      "\n",
      "\n",
      "      💚 Python 💚\n",
      "    學習程式好有趣！\n",
      "\n",
      "\n",
      "      💛 Python 💛\n",
      "    學習程式好有趣！\n",
      "\n",
      "\n",
      "      💛 Python 💛\n",
      "    學習程式好有趣！\n",
      "\n",
      "\n",
      "      ❤️ Python ❤️\n",
      "    學習程式好有趣！\n",
      "\n",
      "\n",
      "      ❤️ Python ❤️\n",
      "    學習程式好有趣！\n"
     ]
    }
   ],
   "source": [
    "import time\n",
    "import os\n",
    "\n",
    "hearts = [\"💜\", \"💙\", \"💚\", \"💛\", \"❤️\"]\n",
    "\n",
    "for i in range(20):\n",
    "    os.system('clear')  # Windows用 'cls'\n",
    "    heart = hearts[i % len(hearts)]\n",
    "    print(f\"\\n\\n      {heart} Python {heart}\")\n",
    "    print(\"    學習程式好有趣！\")\n",
    "    time.sleep(0.5)"
   ]
  },
  {
   "cell_type": "markdown",
   "id": "b3dbd9e7",
   "metadata": {},
   "source": [
    "### 載入動畫"
   ]
  },
  {
   "cell_type": "code",
   "execution_count": 35,
   "id": "0a52ada6",
   "metadata": {},
   "outputs": [
    {
     "name": "stdout",
     "output_type": "stream",
     "text": [
      "載入完成！✅\n",
      "載入完成！✅\n"
     ]
    }
   ],
   "source": [
    "import time\n",
    "\n",
    "def loading_animation():\n",
    "    chars = \"|/-\\\\\"\n",
    "    for i in range(20):\n",
    "        print(f\"\\r載入中 {chars[i % len(chars)]}\", end=\"\")\n",
    "        time.sleep(0.2)\n",
    "    print(\"\\r載入完成！✅\")\n",
    "\n",
    "loading_animation()"
   ]
  },
  {
   "cell_type": "markdown",
   "id": "34bd5402",
   "metadata": {},
   "source": [
    "## 實例展示：ASCII小貓 🐱"
   ]
  },
  {
   "cell_type": "code",
   "execution_count": 36,
   "id": "27fe1525",
   "metadata": {},
   "outputs": [
    {
     "name": "stdout",
     "output_type": "stream",
     "text": [
      "繪製小貓中...\n",
      "     /\\_/\\  \n",
      "    ( o.o ) \n",
      "    ( o.o ) \n",
      "     > ^ <  \n",
      "     > ^ <  \n",
      "\n",
      "🐱 可愛的ASCII小貓完成了！\n",
      "\n",
      "🐱 可愛的ASCII小貓完成了！\n"
     ]
    }
   ],
   "source": [
    "import time\n",
    "\n",
    "def draw_cat():\n",
    "    cat = [\n",
    "        \"     /\\\\_/\\\\  \",\n",
    "        \"    ( o.o ) \",\n",
    "        \"     > ^ <  \",\n",
    "    ]\n",
    "    \n",
    "    print(\"繪製小貓中...\")\n",
    "    for line in cat:\n",
    "        print(line)\n",
    "        time.sleep(0.5)\n",
    "    \n",
    "    print(\"\\n🐱 可愛的ASCII小貓完成了！\")\n",
    "\n",
    "draw_cat()"
   ]
  },
  {
   "cell_type": "markdown",
   "id": "b09d9ce6",
   "metadata": {},
   "source": [
    "### 會眨眼的小貓 😸"
   ]
  },
  {
   "cell_type": "code",
   "execution_count": 37,
   "id": "98889621",
   "metadata": {},
   "outputs": [
    {
     "name": "stdout",
     "output_type": "stream",
     "text": [
      "     /\\_/\\  \n",
      "    ( o.o ) \n",
      "     > ^ <  \n",
      "     /\\_/\\  \n",
      "    ( -.- ) \n",
      "     > ^ <  \n",
      "     /\\_/\\  \n",
      "    ( -.- ) \n",
      "     > ^ <  \n",
      "     /\\_/\\  \n",
      "    ( o.o ) \n",
      "     > ^ <  \n",
      "     /\\_/\\  \n",
      "    ( o.o ) \n",
      "     > ^ <  \n",
      "     /\\_/\\  \n",
      "    ( -.- ) \n",
      "     > ^ <  \n",
      "     /\\_/\\  \n",
      "    ( -.- ) \n",
      "     > ^ <  \n",
      "     /\\_/\\  \n",
      "    ( o.o ) \n",
      "     > ^ <  \n",
      "     /\\_/\\  \n",
      "    ( o.o ) \n",
      "     > ^ <  \n",
      "     /\\_/\\  \n",
      "    ( -.- ) \n",
      "     > ^ <  \n",
      "     /\\_/\\  \n",
      "    ( -.- ) \n",
      "     > ^ <  \n",
      "     /\\_/\\  \n",
      "    ( o.o ) \n",
      "     > ^ <  \n",
      "     /\\_/\\  \n",
      "    ( o.o ) \n",
      "     > ^ <  \n",
      "     /\\_/\\  \n",
      "    ( -.- ) \n",
      "     > ^ <  \n",
      "     /\\_/\\  \n",
      "    ( -.- ) \n",
      "     > ^ <  \n",
      "     /\\_/\\  \n",
      "    ( o.o ) \n",
      "     > ^ <  \n",
      "     /\\_/\\  \n",
      "    ( o.o ) \n",
      "     > ^ <  \n",
      "     /\\_/\\  \n",
      "    ( -.- ) \n",
      "     > ^ <  \n",
      "     /\\_/\\  \n",
      "    ( -.- ) \n",
      "     > ^ <  \n"
     ]
    }
   ],
   "source": [
    "import time\n",
    "import os\n",
    "\n",
    "def blinking_cat():\n",
    "    open_eyes = [\n",
    "        \"     /\\\\_/\\\\  \",\n",
    "        \"    ( o.o ) \",\n",
    "        \"     > ^ <  \"\n",
    "    ]\n",
    "    \n",
    "    closed_eyes = [\n",
    "        \"     /\\\\_/\\\\  \",\n",
    "        \"    ( -.- ) \",\n",
    "        \"     > ^ <  \"\n",
    "    ]\n",
    "    \n",
    "    for _ in range(5):\n",
    "        os.system('clear')  # Windows用 'cls'\n",
    "        for line in open_eyes:\n",
    "            print(line)\n",
    "        time.sleep(1)\n",
    "        \n",
    "        os.system('clear')\n",
    "        for line in closed_eyes:\n",
    "            print(line)\n",
    "        time.sleep(0.3)\n",
    "\n",
    "blinking_cat()"
   ]
  }
 ],
 "metadata": {
  "kernelspec": {
   "display_name": "Python 3",
   "language": "python",
   "name": "python3"
  },
  "language_info": {
   "codemirror_mode": {
    "name": "ipython",
    "version": 3
   },
   "file_extension": ".py",
   "mimetype": "text/x-python",
   "name": "python",
   "nbconvert_exporter": "python",
   "pygments_lexer": "ipython3",
   "version": "3.13.2"
  }
 },
 "nbformat": 4,
 "nbformat_minor": 5
}
