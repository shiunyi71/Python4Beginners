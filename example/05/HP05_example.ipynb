{
  "cells": [
    {
      "cell_type": "markdown",
      "id": "f4851027",
      "metadata": {
        "language": "markdown"
      },
      "source": [
        "# Week 05 Python 程式範例彙整"
      ]
    },
    {
      "cell_type": "markdown",
      "id": "8587ffd9",
      "metadata": {
        "language": "markdown"
      },
      "source": [
        "## Python基礎IO架構整合"
      ]
    },
    {
      "cell_type": "code",
      "execution_count": null,
      "id": "909755b2",
      "metadata": {
        "language": "python"
      },
      "outputs": [],
      "source": [
        "# 1. 模組引入\n",
        "import random\n",
        "import time\n",
        "\n",
        "# 2. 變數宣告與初始化\n",
        "name = input(\"請輸入您的姓名：\")\n",
        "age = int(input(\"請輸入您的年齡：\"))\n",
        "score = 0\n",
        "\n",
        "# 3. 條件判斷與流程控制\n",
        "if age >= 18:\n",
        "    print(f\"歡迎成年人 {name}！\")\n",
        "    if score >= 80:\n",
        "        print(\"您的表現優秀！\")\n",
        "    else:\n",
        "        print(\"繼續加油！\")\n",
        "else:\n",
        "    print(f\"小朋友 {name}，要努力學習哦！\")\n",
        "\n",
        "# 4. 輸出結果\n",
        "print(f\"程式執行完成，{name} 再見！\")"
      ]
    },
    {
      "cell_type": "markdown",
      "id": "23805635",
      "metadata": {
        "language": "markdown"
      },
      "source": [
        "## 資料型態與變數複習"
      ]
    },
    {
      "cell_type": "code",
      "execution_count": null,
      "id": "da376810",
      "metadata": {
        "language": "python"
      },
      "outputs": [],
      "source": [
        "# 使用者輸入處理\n",
        "user_input = input(\"請輸入一個數字：\")  # str\n",
        "number = float(user_input)              # float\n",
        "is_positive = number > 0                # bool\n",
        "result_text = f\"數字 {number} 是正數：{is_positive}\"  # str\n",
        "\n",
        "print(result_text)"
      ]
    },
    {
      "cell_type": "markdown",
      "id": "25ca5482",
      "metadata": {
        "language": "markdown"
      },
      "source": [
        "## 流程控制知識鞏固"
      ]
    },
    {
      "cell_type": "code",
      "execution_count": null,
      "id": "6e582a2d",
      "metadata": {
        "language": "python"
      },
      "outputs": [],
      "source": [
        "# 基本if-else\n",
        "# if 條件:\n",
        "#     執行動作\n",
        "# else:\n",
        "#     其他動作\n",
        "\n",
        "# 多重elif\n",
        "# if 條件1:\n",
        "#     動作1\n",
        "# elif 條件2:\n",
        "#     動作2\n",
        "# elif 條件3:\n",
        "#     動作3\n",
        "# else:\n",
        "#     預設動作"
      ]
    },
    {
      "cell_type": "code",
      "execution_count": null,
      "id": "10fdcbdc",
      "metadata": {},
      "outputs": [],
      "source": [
        "# 範例\n",
        "## if-else 範例\n",
        "score = int(input(\"請輸入分數：\"))\n",
        "if score >= 60:\n",
        "  print(\"及格！\")\n",
        "else:\n",
        "  print(\"不及格！\")"
      ]
    },
    {
      "cell_type": "code",
      "execution_count": null,
      "id": "af99eae7",
      "metadata": {},
      "outputs": [],
      "source": [
        "## elif 範例\n",
        "score = int(input(\"請輸入分數：\"))\n",
        "if score >= 90:\n",
        "  print(\"優秀！\")\n",
        "elif score >= 80:\n",
        "  print(\"良好！\")\n",
        "elif score >= 60:\n",
        "  print(\"及格！\")\n",
        "else:\n",
        "  print(\"不及格！\")"
      ]
    },
    {
      "cell_type": "markdown",
      "id": "025cd9fc",
      "metadata": {
        "language": "markdown"
      },
      "source": [
        "## 簡易變化巢狀判斷"
      ]
    },
    {
      "cell_type": "code",
      "execution_count": null,
      "id": "cf71af1e",
      "metadata": {
        "language": "python"
      },
      "outputs": [],
      "source": [
        "if age >= 18:\n",
        "    print(f\"{name} 已成年 ！\")\n",
        "    if score >= 80:\n",
        "        print(\"您的表現優秀！\")\n",
        "    else:\n",
        "        print(\"繼續加油！\")\n",
        "else:\n",
        "    print(f\"小朋友 {name}，要努力學習哦！\")"
      ]
    },
    {
      "cell_type": "markdown",
      "id": "e9f8cb00",
      "metadata": {
        "language": "markdown"
      },
      "source": [
        "## 綜合實戰練習：資訊管理系統"
      ]
    },
    {
      "cell_type": "code",
      "execution_count": null,
      "id": "6ee2f224",
      "metadata": {
        "language": "python"
      },
      "outputs": [],
      "source": [
        "import random\n",
        "\n",
        "print(\"=== 🎓 學生資訊管理系統 ===\")\n",
        "print(\"1. 新增學生資料\")\n",
        "print(\"2. 成績計算與分析\")\n",
        "print(\"3. 隨機點名系統\")\n",
        "print(\"4. 離開系統\")\n",
        "\n",
        "choice = input(\"請選擇功能(1-4)：\")\n",
        "\n",
        "if choice == \"1\":\n",
        "    # 新增學生資料\n",
        "    name = input(\"學生姓名：\")\n",
        "    age = int(input(\"學生年齡：\"))\n",
        "    grade = input(\"就讀年級：\")\n",
        "    print(f\"✅ 學生 {name} 資料輸入完成\")\n",
        "    print(f\"年齡：{age} 歲，年級：{grade}\")\n",
        "elif choice == \"2\":\n",
        "    # 成績計算\n",
        "    chinese = float(input(\"國文成績：\"))\n",
        "    english = float(input(\"英文成績：\"))\n",
        "    math = float(input(\"數學成績：\"))\n",
        "    total = chinese + english + math\n",
        "    average = total / 3\n",
        "    print(f\"總分：{total}\")\n",
        "    print(f\"平均：{average:.2f}\")\n",
        "    if average >= 90:\n",
        "        print(\"🏆 優秀！\")\n",
        "    elif average >= 80:\n",
        "        print(\"👍 良好！\")\n",
        "    elif average >= 70:\n",
        "        print(\"✅ 及格！\")\n",
        "    else:\n",
        "        print(\"💪 需要加油！\")\n",
        "elif choice == \"3\":\n",
        "    # 隨機點名系統\n",
        "    students = [\"小明\", \"小華\", \"小美\", \"小強\", \"小芳\"]\n",
        "    selected = random.choice(students)\n",
        "    print(f\"🎲 隨機點名：{selected}\")\n",
        "elif choice == \"4\":\n",
        "    print(\"👋 系統結束，感謝使用！\")\n",
        "else:\n",
        "    print(\"⚠️ 請輸入有效選項(1-4)\")"
      ]
    },
    {
      "cell_type": "markdown",
      "id": "db29666b",
      "metadata": {
        "language": "markdown"
      },
      "source": [
        "## Tkinter 基本視窗"
      ]
    },
    {
      "cell_type": "code",
      "execution_count": null,
      "id": "64e2d358",
      "metadata": {
        "language": "python"
      },
      "outputs": [],
      "source": [
        "import tkinter as tk\n",
        "\n",
        "window = tk.Tk()\n",
        "window.title(\"Tkinter 基本視窗\")\n",
        "window.geometry(\"300x200\")\n",
        "\n",
        "label = tk.Label(window, text=\"Hello, Tkinter!\", font=(\"Arial\", 16))\n",
        "label.pack(pady=20)\n",
        "\n",
        "window.mainloop()"
      ]
    },
    {
      "cell_type": "markdown",
      "id": "cebfcc3b",
      "metadata": {
        "language": "markdown"
      },
      "source": [
        "## Tkinter 按鈕與事件"
      ]
    },
    {
      "cell_type": "code",
      "execution_count": null,
      "id": "8eef025d",
      "metadata": {
        "language": "python"
      },
      "outputs": [],
      "source": [
        "import tkinter as tk\n",
        "\n",
        "def say_hello():\n",
        "    label.config(text=\"你按下了按鈕！\")\n",
        "\n",
        "window = tk.Tk()\n",
        "window.title(\"按鈕範例\")\n",
        "\n",
        "label = tk.Label(window, text=\"請按下按鈕\")\n",
        "label.pack()\n",
        "\n",
        "button = tk.Button(window, text=\"點我\", command=say_hello)\n",
        "button.pack()\n",
        "\n",
        "window.mainloop()"
      ]
    },
    {
      "cell_type": "markdown",
      "id": "c0362455",
      "metadata": {
        "language": "markdown"
      },
      "source": [
        "## Tkinter 輸入框與取得內容"
      ]
    },
    {
      "cell_type": "code",
      "execution_count": null,
      "id": "0f9a043c",
      "metadata": {
        "language": "python"
      },
      "outputs": [],
      "source": [
        "import tkinter as tk\n",
        "\n",
        "def show_name():\n",
        "    name = entry.get()\n",
        "    label.config(text=f\"你好，{name}！\")\n",
        "\n",
        "window = tk.Tk()\n",
        "window.title(\"輸入框範例\")\n",
        "\n",
        "entry = tk.Entry(window)\n",
        "entry.pack()\n",
        "\n",
        "button = tk.Button(window, text=\"送出\", command=show_name)\n",
        "button.pack()\n",
        "\n",
        "label = tk.Label(window, text=\"\")\n",
        "label.pack()\n",
        "\n",
        "window.mainloop()"
      ]
    }
  ],
  "metadata": {
    "kernelspec": {
      "display_name": "Python 3",
      "language": "python",
      "name": "python3"
    },
    "language_info": {
      "codemirror_mode": {
        "name": "ipython",
        "version": 3
      },
      "file_extension": ".py",
      "mimetype": "text/x-python",
      "name": "python",
      "nbconvert_exporter": "python",
      "pygments_lexer": "ipython3",
      "version": "3.13.2"
    }
  },
  "nbformat": 4,
  "nbformat_minor": 5
}
