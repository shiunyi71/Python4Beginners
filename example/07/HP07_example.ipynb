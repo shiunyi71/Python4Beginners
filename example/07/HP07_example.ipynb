{
  "cells": [
    {
      "cell_type": "markdown",
      "metadata": {
        "language": "markdown"
      },
      "source": [
        "## 建立你的第一個寶物清單"
      ]
    },
    {
      "cell_type": "code",
      "execution_count": 27,
      "metadata": {
        "language": "python"
      },
      "outputs": [],
      "source": [
        "# 建立空的寶物清單\n",
        "treasure_list = []\n",
        "\n",
        "# 建立有初始寶物的清單\n",
        "my_treasures = [\"金幣\", \"紅寶石\", \"魔法書\", \"銀劍\"]\n",
        "print(my_treasures)\n",
        "# 輸出: ['金幣', '紅寶石', '魔法書', '銀劍']"
      ]
    },
    {
      "cell_type": "markdown",
      "metadata": {
        "language": "markdown"
      },
      "source": [
        "## 使用 list() 函數建立清單"
      ]
    },
    {
      "cell_type": "code",
      "execution_count": 28,
      "metadata": {
        "language": "python"
      },
      "outputs": [],
      "source": [
        "# 建立空清單\n",
        "empty_bag = list()\n",
        "\n",
        "# 從字串建立清單\n",
        "spell_letters = list(\"MAGIC\")\n",
        "print(spell_letters)\n",
        "# 輸出: ['M', 'A', 'G', 'I', 'C']"
      ]
    },
    {
      "cell_type": "markdown",
      "metadata": {
        "language": "markdown"
      },
      "source": [
        "## 清單索引：找到你的寶物位置"
      ]
    },
    {
      "cell_type": "code",
      "execution_count": 29,
      "metadata": {
        "language": "python"
      },
      "outputs": [],
      "source": [
        "treasures = [\"金幣\", \"紅寶石\", \"魔法書\", \"銀劍\", \"鑽石\"]\n",
        "\n",
        "# 正向索引（從左邊開始數，從0開始）\n",
        "print(treasures[0])    # 金幣\n",
        "print(treasures[2])    # 魔法書\n",
        "print(treasures[4])    # 鑽石\n",
        "\n",
        "# 負向索引（從右邊開始數，從-1開始）\n",
        "print(treasures[-1])   # 鑽石（最後一個）\n",
        "print(treasures[-2])   # 銀劍（倒數第二個）"
      ]
    },
    {
      "cell_type": "markdown",
      "id": "296e1ce5",
      "metadata": {
        "language": "markdown"
      },
      "source": [
        "## 小練習：寶物定位器"
      ]
    },
    {
      "cell_type": "code",
      "execution_count": 30,
      "id": "9cebb7b6",
      "metadata": {
        "language": "python"
      },
      "outputs": [],
      "source": [
        "# 你的寶物清單\n",
        "my_collection = [\"古老地圖\", \"神秘水晶\", \"黃金匕首\", \"魔法戒指\", \"龍鱗盾牌\"]\n",
        "\n",
        "# 1. 第一個寶物是什麼？\n",
        "first_treasure = my_collection[...]\n",
        "\n",
        "# 2. 最後一個寶物是什麼？\n",
        "last_treasure = my_collection[...]\n",
        "\n",
        "# 3. 第三個寶物是什麼？\n",
        "third_treasure = my_collection[...]\n",
        "\n",
        "print(f\"第一個寶物：{first_treasure}\")\n",
        "print(f\"最後一個寶物：{last_treasure}\")\n",
        "print(f\"第三個寶物：{third_treasure}\")"
      ]
    },
    {
      "cell_type": "markdown",
      "id": "ef61d1d9",
      "metadata": {
        "language": "markdown"
      },
      "source": [
        "## 清單的新增操作"
      ]
    },
    {
      "cell_type": "code",
      "execution_count": null,
      "id": "26ba552b",
      "metadata": {
        "language": "python"
      },
      "outputs": [],
      "source": [
        "treasures = [\"金幣\", \"紅寶石\"]\n",
        "treasures.append(\"魔法書\")\n",
        "print(treasures)  # ['金幣', '紅寶石', '魔法書']\n",
        "\n",
        "treasures.append(\"銀劍\")\n",
        "print(treasures)  # ['金幣', '紅寶石', '魔法書', '銀劍']"
      ]
    },
    {
      "cell_type": "code",
      "execution_count": null,
      "id": "7709b787",
      "metadata": {
        "language": "python"
      },
      "outputs": [],
      "source": [
        "treasures = [\"金幣\", \"紅寶石\", \"魔法書\"]\n",
        "treasures.insert(1, \"鑽石\")  # 在索引1的位置插入\n",
        "print(treasures)  # ['金幣', '鑽石', '紅寶石', '魔法書']\n",
        "\n",
        "treasures.insert(0, \"皇冠\")  # 在開頭插入\n",
        "print(treasures)  # ['皇冠', '金幣', '鑽石', '紅寶石', '魔法書']"
      ]
    },
    {
      "cell_type": "markdown",
      "id": "2243da71",
      "metadata": {
        "language": "markdown"
      },
      "source": [
        "## 清單的刪除操作"
      ]
    },
    {
      "cell_type": "code",
      "execution_count": null,
      "id": "2b9c2848",
      "metadata": {
        "language": "python"
      },
      "outputs": [],
      "source": [
        "treasures = [\"金幣\", \"紅寶石\", \"魔法書\", \"銀劍\"]\n",
        "treasures.remove(\"魔法書\")  # 移除特定物品\n",
        "print(treasures)  # ['金幣', '紅寶石', '銀劍']"
      ]
    },
    {
      "cell_type": "code",
      "execution_count": null,
      "id": "09131a4a",
      "metadata": {
        "language": "python"
      },
      "outputs": [],
      "source": [
        "treasures = [\"金幣\", \"紅寶石\", \"魔法書\", \"銀劍\"]\n",
        "removed_item = treasures.pop()      # 取出最後一個\n",
        "print(f\"取出了: {removed_item}\")    # 取出了: 銀劍\n",
        "print(treasures)                    # ['金幣', '紅寶石', '魔法書']\n",
        "\n",
        "removed_item = treasures.pop(0)     # 取出索引0的物品\n",
        "print(f\"取出了: {removed_item}\")    # 取出了: 金幣\n",
        "print(treasures)                    # ['紅寶石', '魔法書']"
      ]
    },
    {
      "cell_type": "markdown",
      "id": "753f3f06",
      "metadata": {
        "language": "markdown"
      },
      "source": [
        "## 清單的修改操作"
      ]
    },
    {
      "cell_type": "code",
      "execution_count": 31,
      "id": "9199cba5",
      "metadata": {
        "language": "python"
      },
      "outputs": [],
      "source": [
        "treasures = [\"舊劍\", \"紅寶石\", \"破盾\", \"金幣\"]\n",
        "print(treasures)  # ['舊劍', '紅寶石', '破盾', '金幣']\n",
        "# 升級裝備！\n",
        "treasures[0] = \"神劍\"      # 舊劍 → 神劍\n",
        "treasures[2] = \"龍鱗盾\"    # 破盾 → 龍鱗盾\n",
        "\n",
        "print(treasures)  # ['神劍', '紅寶石', '龍鱗盾', '金幣']\n",
        "\n",
        "# 批量修改多個物品\n",
        "treasures[1:3] = [\"藍寶石\", \"鑽石盾\"]\n",
        "print(treasures)  # ['神劍', '藍寶石', '鑽石盾', '金幣']"
      ]
    },
    {
      "cell_type": "markdown",
      "id": "4883bc3e",
      "metadata": {
        "language": "markdown"
      },
      "source": [
        "## 小練習：寶物管理員"
      ]
    },
    {
      "cell_type": "code",
      "execution_count": 32,
      "id": "9027d394",
      "metadata": {
        "language": "python"
      },
      "outputs": [],
      "source": [
        "# 初始寶物清單\n",
        "inventory = [\"生鏽匕首\", \"小金幣\", \"破布衣\"]\n",
        "\n",
        "# 任務1：在末尾添加 \"魔法藥水\"\n",
        "inventory.append(...)\n",
        "\n",
        "# 任務2：在開頭插入 \"傳說武器\"\n",
        "inventory.insert(..., ...)\n",
        "\n",
        "# 任務3：將 \"破布衣\" 升級成 \"龍鱗甲\"\n",
        "inventory[2] = ...\n",
        "\n",
        "# 任務4：移除 \"生鏽匕首\"\n",
        "inventory.remove(...)\n",
        "\n",
        "print(\"最終寶物清單:\", inventory)\n",
        "# 期望結果: ['傳說武器', '小金幣', '龍鱗甲', '魔法藥水']"
      ]
    },
    {
      "cell_type": "markdown",
      "id": "dfea094f",
      "metadata": {
        "language": "markdown"
      },
      "source": [
        "## 清單切片：批量操作的魔法"
      ]
    },
    {
      "cell_type": "code",
      "execution_count": 12,
      "id": "28c7ad3b",
      "metadata": {
        "language": "python"
      },
      "outputs": [],
      "source": [
        "treasures = [\"金幣\", \"銀幣\", \"紅寶石\", \"藍寶石\", \"鑽石\", \"翡翠\", \"珍珠\"]\n",
        "\n",
        "# 基本切片\n",
        "print(treasures[1:4])     # ['銀幣', '紅寶石', '藍寶石']\n",
        "print(treasures[:3])      # ['金幣', '銀幣', '紅寶石']\n",
        "print(treasures[4:])      # ['鑽石', '翡翠', '珍珠']\n",
        "\n",
        "# 帶步長的切片\n",
        "print(treasures[::2])     # ['金幣', '紅寶石', '鑽石', '珍珠']\n",
        "print(treasures[1::2])    # ['銀幣', '藍寶石', '翡翠']\n",
        "\n",
        "# 反向切片\n",
        "print(treasures[::-1])    # 反轉整個清單"
      ]
    },
    {
      "cell_type": "markdown",
      "id": "5ad44f2b",
      "metadata": {
        "language": "markdown"
      },
      "source": [
        "## 清單的常用方法"
      ]
    },
    {
      "cell_type": "code",
      "execution_count": 13,
      "id": "bf9bc4ff",
      "metadata": {
        "language": "python"
      },
      "outputs": [],
      "source": [
        "treasures = [\"金幣\", \"紅寶石\", \"魔法書\", \"銀劍\"]\n",
        "print(f\"你總共有 {len(treasures)} 個寶物\")  # 你總共有 4 個寶物"
      ]
    },
    {
      "cell_type": "code",
      "execution_count": 14,
      "id": "99bb7934",
      "metadata": {
        "language": "python"
      },
      "outputs": [],
      "source": [
        "bag = [\"金幣\", \"銀幣\", \"金幣\", \"寶石\", \"金幣\"]\n",
        "gold_count = bag.count(\"金幣\")\n",
        "print(f\"金幣數量: {gold_count}\")  # 金幣數量: 3"
      ]
    },
    {
      "cell_type": "code",
      "execution_count": 15,
      "id": "3c709ff4",
      "metadata": {
        "language": "python"
      },
      "outputs": [],
      "source": [
        "treasures = [\"劍\", \"盾\", \"藥水\", \"卷軸\"]\n",
        "position = treasures.index(\"藥水\")\n",
        "print(f\"藥水在第 {position} 號位置\")  # 藥水在第 2 號位置"
      ]
    },
    {
      "cell_type": "markdown",
      "id": "5f57add4",
      "metadata": {
        "language": "markdown"
      },
      "source": [
        "## 清單排序與整理"
      ]
    },
    {
      "cell_type": "code",
      "execution_count": 16,
      "id": "2bad9221",
      "metadata": {
        "language": "python"
      },
      "outputs": [],
      "source": [
        "# 數字排序\n",
        "numbers = [100, 50, 200, 75]\n",
        "numbers.sort()  # 小到大\n",
        "print(numbers)  # [50, 75, 100, 200]\n",
        "\n",
        "numbers.sort(reverse=True)  # 大到小\n",
        "print(numbers)  # [200, 100, 75, 50]\n",
        "\n",
        "# 文字排序\n",
        "items = [\"劍\", \"盾\", \"弓\", \"斧\"]\n",
        "items.sort()\n",
        "print(items)  # ['弓', '劍', '斧', '盾'] (依照字典順序)"
      ]
    },
    {
      "cell_type": "code",
      "execution_count": 17,
      "id": "f24d27cc",
      "metadata": {
        "language": "python"
      },
      "outputs": [],
      "source": [
        "treasures = [\"第一\", \"第二\", \"第三\", \"第四\"]\n",
        "treasures.reverse()\n",
        "print(treasures)  # ['第四', '第三', '第二', '第一']"
      ]
    },
    {
      "cell_type": "markdown",
      "id": "9239fde4",
      "metadata": {
        "language": "markdown"
      },
      "source": [
        "## 清單的實用技巧"
      ]
    },
    {
      "cell_type": "code",
      "execution_count": 34,
      "id": "4faf6103",
      "metadata": {
        "language": "python"
      },
      "outputs": [],
      "source": [
        "treasures = [\"金幣\", \"銀劍\", \"魔法書\"]\n",
        "\n",
        "# 方法1: 使用 in 關鍵字\n",
        "if \"金幣\" in treasures:\n",
        "    print(\"找到金幣！\")\n",
        "if \"銀幣\" in treasures:\n",
        "    print(\"找到銀幣！\")\n",
        "\n",
        "# 方法2: 使用 count()\n",
        "if treasures.count(\"銀劍\") > 0:\n",
        "    print(\"找到銀劍！\")\n",
        "\n",
        "# 方法3: 使用 try-except 處理找不到的情況\n",
        "try:\n",
        "    position = treasures.index(\"鑽石\")\n",
        "    print(f\"鑽石在第 {position} 號位置\")\n",
        "except ValueError:\n",
        "    print(\"找不到鑽石！\")\n",
        "\n",
        "# 方法4: 檢查不存在的物品\n",
        "if \"龍鱗\" not in treasures:\n",
        "    print(\"背包裡沒有龍鱗！\")"
      ]
    },
    {
      "cell_type": "code",
      "execution_count": 36,
      "id": "5f80021e",
      "metadata": {
        "language": "python"
      },
      "outputs": [],
      "source": [
        "# 複製清單\n",
        "original = [\"劍\", \"盾\"]\n",
        "copy1 = original.copy()          # 方法1\n",
        "copy2 = original[:]             # 方法2\n",
        "copy3 = list(original)          # 方法3\n",
        "print(copy1)  # ['劍', '盾']\n",
        "print(copy2)  # ['劍', '盾']\n",
        "print(copy3)  # ['劍', '盾']\n",
        "\n",
        "# 合併清單\n",
        "weapons = [\"劍\", \"弓\"]\n",
        "armor = [\"盾\", \"甲\"]\n",
        "all_gear = weapons + armor      # ['劍', '弓', '盾', '甲']\n",
        "print(all_gear)  # ['劍', '弓', '盾', '甲']"
      ]
    },
    {
      "cell_type": "markdown",
      "id": "a6ec65e7",
      "metadata": {
        "language": "markdown"
      },
      "source": [
        "## 清單的進階應用"
      ]
    },
    {
      "cell_type": "code",
      "execution_count": null,
      "id": "c083b0d6",
      "metadata": {
        "language": "python"
      },
      "outputs": [],
      "source": [
        "# 創建平方數清單\n",
        "numbers = [1, 2, 3, 4, 5]\n",
        "squares = [x**2 for x in numbers] # List comprehension\n",
        "print(squares)  # [1, 4, 9, 16, 25]\n",
        "\n",
        "# 過濾高價值寶物\n",
        "treasures = [\n",
        "    {\"name\": \"金劍\", \"value\": 1000},\n",
        "    {\"name\": \"銀幣\", \"value\": 10},\n",
        "    {\"name\": \"鑽石\", \"value\": 5000}\n",
        "]\n",
        "\n",
        "expensive = [t[\"name\"] for t in treasures if t[\"value\"] > 500]\n",
        "print(expensive)  # ['金劍', '鑽石']"
      ]
    },
    {
      "cell_type": "markdown",
      "id": "c6798626",
      "metadata": {},
      "source": [
        "### 多維清單：建立寶物倉庫"
      ]
    },
    {
      "cell_type": "code",
      "execution_count": 21,
      "id": "0e75ef9f",
      "metadata": {
        "language": "python"
      },
      "outputs": [],
      "source": [
        "# 3x3的寶物倉庫\n",
        "warehouse = [\n",
        "    [\"金劍\", \"銀盾\", \"魔法書\"],\n",
        "    [\"紅藥水\", \"藍藥水\", \"綠藥水\"],\n",
        "    [\"金幣\", \"銀幣\", \"寶石\"]\n",
        "]\n",
        "\n",
        "# 存取特定位置的寶物\n",
        "print(warehouse[0][1])  # 銀盾\n",
        "print(warehouse[2][0])  # 金幣"
      ]
    },
    {
      "cell_type": "markdown",
      "id": "c8be2114",
      "metadata": {
        "language": "markdown"
      },
      "source": [
        "## 隨機寶物生成器"
      ]
    },
    {
      "cell_type": "code",
      "execution_count": 41,
      "id": "a7a25aad",
      "metadata": {
        "language": "python"
      },
      "outputs": [],
      "source": [
        "import random\n",
        "\n",
        "def generate_random_treasure():\n",
        "    \"\"\"隨機生成寶物\"\"\"\n",
        "    treasure_names = [\n",
        "        \"神秘寶箱\", \"古老卷軸\", \"魔法水晶\", \"龍鱗盾牌\", \n",
        "        \"傳說之劍\", \"治療藥水\", \"隱身斗篷\", \"火焰戒指\"\n",
        "    ]\n",
        "    \n",
        "    rarities = [\"普通\", \"稀有\", \"史詩\", \"傳說\"]\n",
        "    rarity_multipliers = {\"普通\": 1, \"稀有\": 3, \"史詩\": 10, \"傳說\": 50}\n",
        "    \n",
        "    name = random.choice(treasure_names)\n",
        "    rarity = random.choice(rarities)\n",
        "    base_value = random.randint(10, 100)\n",
        "    final_value = base_value * rarity_multipliers[rarity]\n",
        "    \n",
        "    return {\n",
        "        \"name\": f\"{rarity}{name}\",\n",
        "        \"value\": final_value,\n",
        "        \"rarity\": rarity\n",
        "    }\n",
        "\n",
        "# 生成5個隨機寶物\n",
        "for _ in range(5):\n",
        "    treasure = generate_random_treasure()\n",
        "    print(f\"{treasure['name']} - 價值: {treasure['value']}\")"
      ]
    },
    {
      "cell_type": "markdown",
      "id": "20c38d0b",
      "metadata": {},
      "source": [
        "## 🔍 清單搜尋演算法\n",
        "\n",
        "### 線性搜尋\n",
        "\n"
      ]
    },
    {
      "cell_type": "code",
      "execution_count": 45,
      "id": "7bdb28f6",
      "metadata": {},
      "outputs": [
        {
          "name": "stdout",
          "output_type": "stream",
          "text": [
            "找到魔法書在位置 2\n"
          ]
        }
      ],
      "source": [
        "def linear_search(treasure_list, target):\n",
        "    \"\"\"線性搜尋寶物\"\"\"\n",
        "    for i, treasure in enumerate(treasure_list):\n",
        "        if treasure == target:\n",
        "            return i  # 回傳索引位置\n",
        "    return -1  # 找不到\n",
        "\n",
        "treasures = [\"金幣\", \"銀劍\", \"魔法書\", \"紅寶石\"]\n",
        "position = linear_search(treasures, \"魔法書\")\n",
        "if position != -1:\n",
        "    print(f\"找到魔法書在位置 {position}\")\n",
        "else:\n",
        "    print(\"找不到魔法書\")"
      ]
    },
    {
      "cell_type": "markdown",
      "id": "208a87eb",
      "metadata": {
        "language": "markdown"
      },
      "source": [
        "## 綜合範例：寶物分類器"
      ]
    },
    {
      "cell_type": "code",
      "execution_count": 42,
      "id": "598f2555",
      "metadata": {
        "language": "python"
      },
      "outputs": [],
      "source": [
        "# 所有寶物（未分類）\n",
        "all_items = [\"金劍\", \"銀幣\", \"銀劍\", \"魔法書\", \"金幣\", \"鐵盾\", \"紅藥水\", \"金戒指\", \"藍藥水\"]\n",
        "\n",
        "# 建立分類清單\n",
        "weapons = []      # 武器\n",
        "money = []        # 金錢\n",
        "books = []        # 書籍\n",
        "potions = []      # 藥水\n",
        "jewelry = []      # 飾品\n",
        "\n",
        "# 請完成分類邏輯\n",
        "for item in all_items:\n",
        "    if \"劍\" in item or \"盾\" in item:\n",
        "        weapons.append(item)\n",
        "    elif \"幣\" in item:\n",
        "        money.append(item)\n",
        "    elif \"書\" in item:\n",
        "        books.append(item)\n",
        "    elif \"藥水\" in item:\n",
        "        potions.append(item)\n",
        "    elif \"戒指\" in item:\n",
        "        jewelry.append(item)\n",
        "\n",
        "print(f\"武器: {weapons}\")\n",
        "print(f\"金錢: {money}\")\n",
        "print(f\"書籍: {books}\")\n",
        "print(f\"藥水: {potions}\")\n",
        "print(f\"飾品: {jewelry}\")"
      ]
    },
    {
      "cell_type": "markdown",
      "id": "cde62c5c",
      "metadata": {
        "language": "markdown"
      },
      "source": [
        "## 實作專案：寶物收集管理系統"
      ]
    },
    {
      "cell_type": "code",
      "execution_count": null,
      "id": "79f96422",
      "metadata": {
        "language": "python"
      },
      "outputs": [
        {
          "name": "stdout",
          "output_type": "stream",
          "text": [
            "\n",
            "🏰 === 寶物管理系統 ===\n",
            "1. 添加寶物\n",
            "2. 移除寶物\n",
            "3. 搜尋寶物\n",
            "4. 顯示清單\n",
            "5. 最有價值寶物\n",
            "6. 離開\n",
            "\n",
            "🎒 === 寶物清單 ===\n",
            "背包是空的！\n",
            "\n",
            "🏰 === 寶物管理系統 ===\n",
            "1. 添加寶物\n",
            "2. 移除寶物\n",
            "3. 搜尋寶物\n",
            "4. 顯示清單\n",
            "5. 最有價值寶物\n",
            "6. 離開\n",
            "✅ 成功添加寶物: 123 (價值: 4)\n",
            "\n",
            "🏰 === 寶物管理系統 ===\n",
            "1. 添加寶物\n",
            "2. 移除寶物\n",
            "3. 搜尋寶物\n",
            "4. 顯示清單\n",
            "5. 最有價值寶物\n",
            "6. 離開\n",
            "✅ 成功添加寶物: 444 (價值: 1)\n",
            "\n",
            "🏰 === 寶物管理系統 ===\n",
            "1. 添加寶物\n",
            "2. 移除寶物\n",
            "3. 搜尋寶物\n",
            "4. 顯示清單\n",
            "5. 最有價值寶物\n",
            "6. 離開\n",
            "✅ 成功添加寶物: 555 (價值: 60)\n",
            "\n",
            "🏰 === 寶物管理系統 ===\n",
            "1. 添加寶物\n",
            "2. 移除寶物\n",
            "3. 搜尋寶物\n",
            "4. 顯示清單\n",
            "5. 最有價值寶物\n",
            "6. 離開\n",
            "\n",
            "🎒 === 寶物清單 ===\n",
            "1. 123 - 價值: 4\n",
            "2. 444 - 價值: 1\n",
            "3. 555 - 價值: 60\n",
            "\n",
            "💰 總價值: 65\n",
            "\n",
            "🏰 === 寶物管理系統 ===\n",
            "1. 添加寶物\n",
            "2. 移除寶物\n",
            "3. 搜尋寶物\n",
            "4. 顯示清單\n",
            "5. 最有價值寶物\n",
            "6. 離開\n",
            "\n",
            "🎒 === 寶物清單 ===\n",
            "1. 123 - 價值: 4\n",
            "2. 444 - 價值: 1\n",
            "3. 555 - 價值: 60\n",
            "\n",
            "💰 總價值: 65\n",
            "\n",
            "🏰 === 寶物管理系統 ===\n",
            "1. 添加寶物\n",
            "2. 移除寶物\n",
            "3. 搜尋寶物\n",
            "4. 顯示清單\n",
            "5. 最有價值寶物\n",
            "6. 離開\n",
            "\n",
            "🎒 === 寶物清單 ===\n",
            "1. 123 - 價值: 4\n",
            "2. 444 - 價值: 1\n",
            "3. 555 - 價值: 60\n",
            "\n",
            "💰 總價值: 65\n",
            "\n",
            "🏰 === 寶物管理系統 ===\n",
            "1. 添加寶物\n",
            "2. 移除寶物\n",
            "3. 搜尋寶物\n",
            "4. 顯示清單\n",
            "5. 最有價值寶物\n",
            "6. 離開\n",
            "\n",
            "🎒 === 寶物清單 ===\n",
            "1. 123 - 價值: 4\n",
            "2. 444 - 價值: 1\n",
            "3. 555 - 價值: 60\n",
            "\n",
            "💰 總價值: 65\n",
            "\n",
            "🏰 === 寶物管理系統 ===\n",
            "1. 添加寶物\n",
            "2. 移除寶物\n",
            "3. 搜尋寶物\n",
            "4. 顯示清單\n",
            "5. 最有價值寶物\n",
            "6. 離開\n",
            "\n",
            "🎒 === 寶物清單 ===\n",
            "1. 123 - 價值: 4\n",
            "2. 444 - 價值: 1\n",
            "3. 555 - 價值: 60\n",
            "\n",
            "💰 總價值: 65\n",
            "\n",
            "🏰 === 寶物管理系統 ===\n",
            "1. 添加寶物\n",
            "2. 移除寶物\n",
            "3. 搜尋寶物\n",
            "4. 顯示清單\n",
            "5. 最有價值寶物\n",
            "6. 離開\n",
            "\n",
            "💎 最有價值的寶物: 555 (價值: 60)\n",
            "\n",
            "🏰 === 寶物管理系統 ===\n",
            "1. 添加寶物\n",
            "2. 移除寶物\n",
            "3. 搜尋寶物\n",
            "4. 顯示清單\n",
            "5. 最有價值寶物\n",
            "6. 離開\n"
          ]
        }
      ],
      "source": [
        "def main():\n",
        "  treasures = []\n",
        "  total_value = 0\n",
        "  \n",
        "  while True:\n",
        "    print(\"\\n🏰 === 寶物管理系統 ===\")\n",
        "    print(\"1. 添加寶物\")\n",
        "    print(\"2. 移除寶物\")\n",
        "    print(\"3. 搜尋寶物\")\n",
        "    print(\"4. 顯示清單\")\n",
        "    print(\"5. 最有價值寶物\")\n",
        "    print(\"6. 離開\")\n",
        "    \n",
        "    choice = input(\"\\n請選擇操作 (1-6): \")\n",
        "    if choice == \"1\":\n",
        "      name = input(\"寶物名稱: \")\n",
        "      value = int(input(\"寶物價值: \"))\n",
        "      treasure = {\"name\": name, \"value\": value}\n",
        "      treasures.append(treasure)\n",
        "      total_value += value\n",
        "      print(f\"✅ 成功添加寶物: {name} (價值: {value})\")\n",
        "    \n",
        "    elif choice == \"2\":\n",
        "      name = input(\"要移除的寶物名稱: \")\n",
        "      found = False\n",
        "      for treasure in treasures:\n",
        "        if treasure[\"name\"] == name:\n",
        "          treasures.remove(treasure)\n",
        "          total_value -= treasure[\"value\"]\n",
        "          print(f\"🗑️ 成功移除寶物: {name}\")\n",
        "          found = True\n",
        "          break\n",
        "      if not found:\n",
        "        print(f\"❌ 找不到寶物: {name}\")\n",
        "    \n",
        "    elif choice == \"3\":\n",
        "      keyword = input(\"搜尋關鍵字: \")\n",
        "      results = [treasure for treasure in treasures if keyword.lower() in treasure[\"name\"].lower()]\n",
        "      if results:\n",
        "        print(\"\\n🔍 搜尋結果:\")\n",
        "        for treasure in results:\n",
        "          print(f\"- {treasure['name']} (價值: {treasure['value']})\")\n",
        "      else:\n",
        "        print(\"❌ 找不到相關寶物\")\n",
        "    \n",
        "    elif choice == \"4\":\n",
        "      print(\"\\n🎒 === 寶物清單 ===\")\n",
        "      if not treasures:\n",
        "        print(\"背包是空的！\")\n",
        "      else:\n",
        "        for i, treasure in enumerate(treasures, 1):\n",
        "          print(f\"{i}. {treasure['name']} - 價值: {treasure['value']}\")\n",
        "        print(f\"\\n💰 總價值: {total_value}\")\n",
        "    \n",
        "    elif choice == \"5\":\n",
        "      if not treasures:\n",
        "        print(\"背包是空的！\")\n",
        "      else:\n",
        "        most_valuable = max(treasures, key=lambda x: x[\"value\"])\n",
        "        print(f\"\\n💎 最有價值的寶物: {most_valuable['name']} (價值: {most_valuable['value']})\")\n",
        "    \n",
        "    elif choice == \"6\":\n",
        "      print(\"👋 再見！\")\n",
        "      break\n",
        "    \n",
        "    else:\n",
        "      print(\"❌ 無效的選擇，請重新輸入！\")\n",
        "\n",
        "# 執行程式\n",
        "if __name__ == \"__main__\":\n",
        "  main()"
      ]
    }
  ],
  "metadata": {
    "kernelspec": {
      "display_name": "Python 3",
      "language": "python",
      "name": "python3"
    },
    "language_info": {
      "codemirror_mode": {
        "name": "ipython",
        "version": 3
      },
      "file_extension": ".py",
      "mimetype": "text/x-python",
      "name": "python",
      "nbconvert_exporter": "python",
      "pygments_lexer": "ipython3",
      "version": "3.13.2"
    }
  },
  "nbformat": 4,
  "nbformat_minor": 5
}
