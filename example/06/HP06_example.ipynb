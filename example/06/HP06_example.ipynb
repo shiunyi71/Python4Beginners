{
 "cells": [
  {
   "cell_type": "markdown",
   "id": "4c173f01",
   "metadata": {},
   "source": [
    "# HP06 流程控制(下) - 程式範例集\n",
    "\n",
    "本筆記本整理了課程中所有的Python程式範例，包含：\n",
    "- while迴圈範例\n",
    "- for迴圈與range()函式\n",
    "- break與continue流程控制\n",
    "- 巢狀迴圈應用\n",
    "- 尋寶冒險遊戲完整實作"
   ]
  },
  {
   "cell_type": "markdown",
   "id": "eb0ca784",
   "metadata": {},
   "source": [
    "## 1. while迴圈的基本結構與應用"
   ]
  },
  {
   "cell_type": "markdown",
   "id": "be2ea2e7",
   "metadata": {},
   "source": [
    "### while迴圈基本語法"
   ]
  },
  {
   "cell_type": "code",
   "execution_count": null,
   "id": "650556d3",
   "metadata": {},
   "outputs": [],
   "source": [
    "# while迴圈基本語法\n",
    "while 條件:\n",
    "    # 重複執行的程式碼\n",
    "    pass  # 這裡的pass表示暫時不做任何事，while裡有東西時不寫pass"
   ]
  },
  {
   "cell_type": "markdown",
   "id": "35052301",
   "metadata": {},
   "source": [
    "### 範例1：時鐘倒數"
   ]
  },
  {
   "cell_type": "code",
   "execution_count": null,
   "id": "eeed695d",
   "metadata": {},
   "outputs": [],
   "source": [
    "count = 5\n",
    "\n",
    "while count > 0:\n",
    "    print(f\"倒數: {count}\")\n",
    "    count -= 1\n",
    "\n",
    "print(\"時間到！⏰\")"
   ]
  },
  {
   "cell_type": "markdown",
   "id": "41a7e7ce",
   "metadata": {},
   "source": [
    "### 範例2：驗證使用者輸入"
   ]
  },
  {
   "cell_type": "code",
   "execution_count": null,
   "id": "8fa3e906",
   "metadata": {},
   "outputs": [],
   "source": [
    "# 要求使用者輸入一個介於1到10之間的數字\n",
    "number = 0\n",
    "\n",
    "while number < 1 or number > 10:\n",
    "    number = int(input(\"請輸入一個1到10之間的數字: \"))\n",
    "    if number < 1 or number > 10:\n",
    "        print(\"輸入無效，請再試一次！\")\n",
    "\n",
    "print(f\"你輸入的數字是 {number}，謝謝！\")"
   ]
  },
  {
   "cell_type": "markdown",
   "id": "d27d7362",
   "metadata": {},
   "source": [
    "### 範例3：猜數字遊戲"
   ]
  },
  {
   "cell_type": "code",
   "execution_count": null,
   "id": "a4760e6f",
   "metadata": {},
   "outputs": [],
   "source": [
    "import random\n",
    "\n",
    "secret_number = random.randint(1, 10)\n",
    "guess = 0\n",
    "\n",
    "while guess != secret_number:\n",
    "    guess = int(input(\"猜一個1-10的數字: \"))\n",
    "    if guess < secret_number:\n",
    "        print(\"太小了！再試一次 🔍\")\n",
    "    elif guess > secret_number:\n",
    "        print(\"太大了！再試一次 🔍\")\n",
    "\n",
    "print(f\"恭喜答對了！答案是 {secret_number} 🎉\")"
   ]
  },
  {
   "cell_type": "markdown",
   "id": "b10f3ecd",
   "metadata": {},
   "source": [
    "## 2. for迴圈與range()函式"
   ]
  },
  {
   "cell_type": "markdown",
   "id": "626271db",
   "metadata": {},
   "source": [
    "### range()函式的三種用法"
   ]
  },
  {
   "cell_type": "code",
   "execution_count": null,
   "id": "b9980fa2",
   "metadata": {},
   "outputs": [],
   "source": [
    "# 用法1: range(結束值)\n",
    "for i in range(5):\n",
    "    print(i)  # 輸出: 0, 1, 2, 3, 4\n",
    "\n",
    "print(\"---\")\n",
    "\n",
    "# 用法2: range(開始值, 結束值)\n",
    "for i in range(1, 6):\n",
    "    print(i)  # 輸出: 1, 2, 3, 4, 5\n",
    "\n",
    "print(\"---\")\n",
    "\n",
    "# 用法3: range(開始值, 結束值, 步長)\n",
    "for i in range(0, 10, 2):\n",
    "    print(i)  # 輸出: 0, 2, 4, 6, 8"
   ]
  },
  {
   "cell_type": "markdown",
   "id": "a81273ff",
   "metadata": {},
   "source": [
    "### 範例：計算1到N的總和"
   ]
  },
  {
   "cell_type": "code",
   "execution_count": null,
   "id": "d07d2543",
   "metadata": {},
   "outputs": [],
   "source": [
    "n = int(input(\"請輸入一個正整數N: \"))\n",
    "total = 0\n",
    "\n",
    "for i in range(1, n + 1):\n",
    "    total += i\n",
    "\n",
    "print(f\"1到{n}的總和是: {total}\")"
   ]
  },
  {
   "cell_type": "markdown",
   "id": "025bca44",
   "metadata": {},
   "source": [
    "### 範例：遊戲道具清單"
   ]
  },
  {
   "cell_type": "code",
   "execution_count": null,
   "id": "beb535cd",
   "metadata": {},
   "outputs": [],
   "source": [
    "treasure_items = [\"金幣\", \"魔法石\", \"生命藥水\", \"神秘地圖\", \"寶劍\"]\n",
    "\n",
    "print(\"🎒 你的寶物清單：\")\n",
    "\n",
    "# 方法1: 使用 range(len())\n",
    "for i in range(len(treasure_items)):\n",
    "    print(f\"{i+1}. {treasure_items[i]}\")\n",
    "\n",
    "print(\"---\")\n",
    "\n",
    "# 方法2: 直接遍歷 (效率較低，因為要搜尋index)\n",
    "for e in treasure_items:\n",
    "    print(f\"{treasure_items.index(e)+1}. {e}\")\n",
    "\n",
    "print(\"---\")\n",
    "\n",
    "# 方法3: 使用 enumerate()函式 (推薦)\n",
    "for index, item in enumerate(treasure_items, start=1):\n",
    "    print(f\"{index}. {item}\")"
   ]
  },
  {
   "cell_type": "markdown",
   "id": "ee6c0bd6",
   "metadata": {},
   "source": [
    "## 3. break與continue的流程控制"
   ]
  },
  {
   "cell_type": "markdown",
   "id": "cb998980",
   "metadata": {},
   "source": [
    "### break - 緊急煞車"
   ]
  },
  {
   "cell_type": "code",
   "execution_count": null,
   "id": "b5c979c2",
   "metadata": {},
   "outputs": [],
   "source": [
    "# 尋找特定寶物\n",
    "treasures = [\"銅幣\", \"銀幣\", \"金幣\", \"鑽石\", \"紅寶石\"]\n",
    "\n",
    "for treasure in treasures:\n",
    "    print(f\"發現了 {treasure}\")\n",
    "    if treasure == \"金幣\":\n",
    "        print(\"找到金幣了！停止搜尋 🏆\")\n",
    "        break  # 立即跳出迴圈\n",
    "    print(\"不是目標，繼續尋找...\")\n",
    "else:\n",
    "    print(\"沒有找到金幣 😢\")\n",
    "    \n",
    "print(\"搜尋結束！\")"
   ]
  },
  {
   "cell_type": "markdown",
   "id": "e0eec12e",
   "metadata": {},
   "source": [
    "### continue - 跳過這回合"
   ]
  },
  {
   "cell_type": "code",
   "execution_count": null,
   "id": "29637a13",
   "metadata": {},
   "outputs": [],
   "source": [
    "# 只收集有價值的寶物\n",
    "items = [\"石頭\", \"金幣\", \"樹枝\", \"鑽石\", \"垃圾\", \"紅寶石\"]\n",
    "\n",
    "valuable_items = []\n",
    "for item in items:\n",
    "    if item in [\"石頭\", \"樹枝\", \"垃圾\"]:\n",
    "        print(f\"跳過 {item}\")\n",
    "        continue  # 跳過後續程式碼，進入下一次迴圈\n",
    "    \n",
    "    valuable_items.append(item)\n",
    "    print(f\"收集了 {item} ✨\")\n",
    "\n",
    "print(f\"總共收集到: {valuable_items}\")"
   ]
  },
  {
   "cell_type": "markdown",
   "id": "17b6ea7d",
   "metadata": {},
   "source": [
    "## 4. 巢狀迴圈基礎概念"
   ]
  },
  {
   "cell_type": "markdown",
   "id": "75572c5b",
   "metadata": {},
   "source": [
    "### 範例1：寶藏地圖搜索"
   ]
  },
  {
   "cell_type": "code",
   "execution_count": null,
   "id": "ee33fe93",
   "metadata": {},
   "outputs": [],
   "source": [
    "# 5x3的寶藏地圖\n",
    "treasure_map = [\n",
    "    [\"🌱\", \"🌱\", \"💎\", \"🌱\", \"🌱\"],\n",
    "    [\"🌱\", \"⚡\", \"🌱\", \"🏆\", \"🌱\"],\n",
    "    [\"🌱\", \"🌱\", \"🌱\", \"🌱\", \"💰\"]\n",
    "]\n",
    "\n",
    "print(\"🗺️ 搜索寶藏地圖...\")\n",
    "treasures_found = []\n",
    "\n",
    "for row in range(len(treasure_map)):\n",
    "    for col in range(len(treasure_map[row])):\n",
    "        current_item = treasure_map[row][col]\n",
    "        \n",
    "        if current_item != \"🌱\":  # 不是草地\n",
    "            print(f\"在位置 ({row+1}, {col+1}) 發現: {current_item}\")\n",
    "            treasures_found.append((row+1, col+1, current_item))\n",
    "\n",
    "print(f\"\\n🎉 總共發現 {len(treasures_found)} 個寶藏！\")"
   ]
  },
  {
   "cell_type": "markdown",
   "id": "24c71898",
   "metadata": {},
   "source": [
    "### 範例2：九九乘法表"
   ]
  },
  {
   "cell_type": "code",
   "execution_count": null,
   "id": "36fc610c",
   "metadata": {},
   "outputs": [],
   "source": [
    "print(\"📚 九九乘法表\")\n",
    "print(\"=\" * 25)\n",
    "\n",
    "for i in range(1, 10):\n",
    "    for j in range(1, 10):\n",
    "        result = i * j\n",
    "        print(f\"{i}×{j}={result:2d}\", end=\"  \")\n",
    "    print()  # 換行"
   ]
  },
  {
   "cell_type": "markdown",
   "id": "84733a4a",
   "metadata": {},
   "source": [
    "## 5. 尋寶冒險遊戲完整實作\n",
    "\n",
    "整合所有迴圈技巧的完整遊戲範例："
   ]
  },
  {
   "cell_type": "code",
   "execution_count": null,
   "id": "1151f079",
   "metadata": {},
   "outputs": [],
   "source": [
    "import random\n",
    "\n",
    "print(\"🏴‍☠️ 歡迎來到尋寶冒險世界！\")\n",
    "player_name = input(\"請輸入你的冒險者名字: \")\n",
    "print(f\"歡迎，勇敢的 {player_name}！\")\n",
    "\n",
    "health = 100\n",
    "score = 0\n",
    "inventory = []\n",
    "game_running = True\n",
    "\n",
    "while game_running and health > 0:\n",
    "    print(f\"\\n📊 === {player_name} 的狀態 ===\")\n",
    "    print(f\"❤️  生命值: {health}\")\n",
    "    print(f\"⭐ 分數: {score}\")\n",
    "    print(f\"🎒 背包: {inventory}\")\n",
    "\n",
    "    print(\"\\n🌍 你來到了一個神秘區域...\")\n",
    "    events = [\"寶箱\", \"怪物\", \"商人\", \"陷阱\", \"神秘泉水\"]\n",
    "    event = random.choice(events)\n",
    "\n",
    "    if event == \"寶箱\":\n",
    "        treasures = [(\"金幣\", 50), (\"銀幣\", 25), (\"鑽石\", 200), (\"紅寶石\", 150), (\"魔法書\", 300), (\"神秘藥水\", 100)]\n",
    "        treasure, value = random.choice(treasures)\n",
    "        print(f\"✨ 你發現了 {treasure}！獲得 {value} 分！\")\n",
    "        inventory.append(treasure)\n",
    "        score += value\n",
    "\n",
    "    elif event == \"怪物\":\n",
    "        monsters = [\"哥布林\", \"骷髏兵\", \"野狼\", \"黑暗法師\"]\n",
    "        monster = random.choice(monsters)\n",
    "        print(f\"⚔️ 遭遇 {monster}！準備戰鬥！\")\n",
    "        for round_num in range(1, 4):\n",
    "            print(f\"\\n🥊 第 {round_num} 回合\")\n",
    "            print(\"1. 攻擊  2. 防守  3. 逃跑\")\n",
    "            choice = input(\"請選擇 (1-3): \")\n",
    "            if choice == \"1\":\n",
    "                damage = random.randint(15, 30)\n",
    "                print(f\"💥 你對 {monster} 造成 {damage} 點傷害！\")\n",
    "                if random.random() > 0.3:\n",
    "                    print(f\"🎉 你擊敗了 {monster}！獲得經驗值！\")\n",
    "                    score += 75\n",
    "                    break\n",
    "            elif choice == \"2\":\n",
    "                print(\"🛡️ 你選擇防守，減少傷害！\")\n",
    "                damage = random.randint(5, 15)\n",
    "            else:\n",
    "                print(\"😰 你成功逃脫了！\")\n",
    "                break\n",
    "            health -= damage\n",
    "            print(f\"💔 你受到 {damage} 點傷害！\")\n",
    "            if health <= 0:\n",
    "                print(\"💀 你被擊敗了！遊戲結束！\")\n",
    "                game_running = False\n",
    "                break\n",
    "\n",
    "    elif event == \"商人\":\n",
    "        print(\"🛒 你遇到了一位商人，但他今天沒有帶任何商品。\")\n",
    "\n",
    "    elif event == \"陷阱\":\n",
    "        damage = random.randint(10, 30)\n",
    "        print(f\"💣 你踩到了陷阱！損失 {damage} 點生命值！\")\n",
    "        health -= damage\n",
    "\n",
    "    elif event == \"神秘泉水\":\n",
    "        heal = random.randint(20, 50)\n",
    "        print(f\"💧 你發現了一個神秘泉水，恢復了 {heal} 點生命值！\")\n",
    "        health += heal\n",
    "\n",
    "    if health > 0:\n",
    "        choice = input(\"\\n🤔 要繼續探險嗎？(y/n): \").lower()\n",
    "        if choice == 'n':\n",
    "            game_running = False\n",
    "            print(\"感謝遊玩！下次見！👋\")\n",
    "\n",
    "# 遊戲結束，計算最終分數\n",
    "if health > 0:\n",
    "    base_score = score\n",
    "    health_bonus = health * 2\n",
    "    inventory_bonus = len(inventory) * 25\n",
    "    special_items = [\"魔法書\", \"神秘藥水\", \"鑽石\"]\n",
    "    special_bonus = sum(100 for item in inventory if item in special_items)\n",
    "    total_score = base_score + health_bonus + inventory_bonus + special_bonus\n",
    "\n",
    "    print(f\"\\n🏆 === 最終計分 ===\")\n",
    "    print(f\"基礎分數: {base_score}\")\n",
    "    print(f\"生命值獎勵: {health_bonus}\")\n",
    "    print(f\"道具獎勵: {inventory_bonus}\")\n",
    "    print(f\"特殊道具獎勵: {special_bonus}\")\n",
    "    print(f\"總分: {total_score}\")\n",
    "\n",
    "    if total_score >= 1500:\n",
    "        rank = \"傳奇尋寶大師 🏆\"\n",
    "    elif total_score >= 1000:\n",
    "        rank = \"專業探險家 ⭐\"\n",
    "    elif total_score >= 500:\n",
    "        rank = \"新手冒險者 🌟\"\n",
    "    else:\n",
    "        rank = \"初學者 🔰\"\n",
    "\n",
    "    print(f\"\\n🎖️ 你的冒險等級: {rank}\")\n",
    "    print(\"\\n💾 遊戲記錄已保存！\")\n",
    "    print(f\"玩家: {player_name}\")\n",
    "    print(f\"分數: {total_score}\")\n",
    "    print(f\"等級: {rank}\")\n",
    "    print(f\"道具數量: {len(inventory)}\")\n",
    "    print(f\"剩餘生命: {health}\")"
   ]
  },
  {
   "cell_type": "markdown",
   "id": "72028315",
   "metadata": {},
   "source": [
    "## 6. 小練習題目\n",
    "\n",
    "### 練習1：正數計時器\n",
    "請撰寫一個程式，從使用者輸入的數字開始正數計時。"
   ]
  },
  {
   "cell_type": "code",
   "execution_count": null,
   "id": "0bea9c5d",
   "metadata": {},
   "outputs": [],
   "source": [
    "# 練習1：正數計時器 - 請修改下方程式碼\n",
    "# 原本的倒數程式碼：\n",
    "# count = 5\n",
    "# while count > 0:\n",
    "#     print(f\"倒數: {count}\")\n",
    "#     count -= 1\n",
    "# print(\"時間到！⏰\")\n",
    "\n",
    "# 請修改成正數計時器：\n"
   ]
  },
  {
   "cell_type": "markdown",
   "id": "2a3ef0b4",
   "metadata": {},
   "source": [
    "## 7. 總結\n",
    "\n",
    "本筆記本包含了HP06課程中所有重要的迴圈程式範例：\n",
    "\n",
    "### 🔄 迴圈類型總整理\n",
    "- **while迴圈**: 條件式重複，適用於不確定次數的情況\n",
    "- **for迴圈**: 次數明確的重複，適用於遍歷序列\n",
    "- **巢狀迴圈**: 處理二維數據結構\n",
    "\n",
    "### 🚦 流程控制工具\n",
    "- **break**: 立即跳出迴圈\n",
    "- **continue**: 跳過當次迴圈的剩餘部分\n",
    "\n",
    "### 🎮 實戰應用\n",
    "- 完整的尋寶冒險遊戲展示了如何整合各種迴圈技巧\n",
    "- 遊戲包含狀態管理、隨機事件、計分系統等實用功能\n",
    "\n",
    "### 💡 學習要點\n",
    "1. 選擇適合的迴圈類型\n",
    "2. 正確設計迴圈條件\n",
    "3. 避免無限迴圈\n",
    "4. 善用break和continue控制流程\n",
    "5. 巢狀迴圈的層次要清楚\n",
    "\n",
    "繼續練習這些範例，掌握迴圈的強大功能！🐍✨"
   ]
  }
 ],
 "metadata": {
  "language_info": {
   "name": "python"
  }
 },
 "nbformat": 4,
 "nbformat_minor": 5
}
